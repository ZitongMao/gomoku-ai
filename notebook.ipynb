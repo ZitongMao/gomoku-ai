{
 "cells": [
  {
   "cell_type": "code",
   "execution_count": 6,
   "metadata": {
    "collapsed": true
   },
   "outputs": [],
   "source": [
    "from enum import Enum\n",
    "\n",
    "#define a board with size N * N\n",
    "N = 15\n",
    "\n",
    "class BoardState(Enum):\n",
    "\t#three possible states for a given intersection\n",
    "    EMPTY = 0\n",
    "    BLACK = 1\n",
    "    WHITE = 2"
   ]
  },
  {
   "cell_type": "code",
   "execution_count": 7,
   "metadata": {
    "collapsed": true
   },
   "outputs": [],
   "source": [
    "#Gomoku board design based on xerwin's tutorial\n",
    "#http://www.cnblogs.com/erwin/p/7828956.html\n",
    "\n",
    "class Gomoku(object):\n",
    "    def __init__(self):\n",
    "        #create a N * N map\n",
    "        self.__chessMap = [[BoardState.EMPTY for j in range(N)] for i in range(N)]\n",
    "        self.__currentI = -1\n",
    "        self.__currentJ = -1\n",
    "        self.__currentState = BoardState.EMPTY\n",
    "\n",
    "    def get_chessMap(self):\n",
    "        return self.__chessMap\n",
    "\n",
    "    def get_chessboard_state(self, i, j):\n",
    "        return self.__chessMap[i][j]\n",
    "\n",
    "    def set_chessboard_state(self, i, j, state):\n",
    "        self.__chessMap[i][j] = state\n",
    "        self.__currentI = i\n",
    "        self.__currentJ = j\n",
    "        self.__currentState = state\n",
    "\n",
    "    def get_chess_result(self):\n",
    "        if self.connected_five(self.__currentI, self.__currentJ, self.__currentState):\n",
    "            return self.__currentState\n",
    "        else:\n",
    "            return BoardState.EMPTY\n",
    "\n",
    "    def direction_count(self, i, j, xdirection, ydirection, player):\n",
    "        count = 0\n",
    "        for step in range(1, 5): #look four more steps on a certain direction\n",
    "            if xdirection != 0 and (j + xdirection * step < 0 or j + xdirection * step >= N):\n",
    "                break\n",
    "            if ydirection != 0 and (i + ydirection * step < 0 or i + ydirection * step >= N):\n",
    "                break\n",
    "            if self.__chessMap[i + ydirection * step][j + xdirection * step] == player:\n",
    "                count += 1\n",
    "            else:\n",
    "                break\n",
    "        return count\n",
    "\n",
    "    def connected_five(self, i, j, player):\n",
    "        #four directions: horizontal, vertical, two diagonals\n",
    "        directions = [[(-1, 0), (1, 0)], \\\n",
    "                      [(0, -1), (0, 1)], \\\n",
    "                      [(-1, 1), (1, -1)], \\\n",
    "                      [(-1, -1), (1, 1)]]\n",
    "\n",
    "        for axis in directions:\n",
    "            axis_count = 1\n",
    "            for (xdirection, ydirection) in axis:\n",
    "                axis_count += self.direction_count(i, j, xdirection, ydirection, player)\n",
    "                if axis_count >= 5:\n",
    "                    return True\n",
    "\n",
    "        return False\n"
   ]
  },
  {
   "cell_type": "code",
   "execution_count": 8,
   "metadata": {
    "collapsed": true
   },
   "outputs": [],
   "source": [
    "#based on xerwin's tutorial and pygame documentation\n",
    "\n",
    "import pygame\n",
    "from pygame.locals import *\n",
    "\n",
    "\n",
    "IMAGE_PATH = 'UI/'\n",
    "\n",
    "WIDTH = 540\n",
    "HEIGHT = 540\n",
    "MARGIN = 22\n",
    "GRID = (WIDTH - 2 * MARGIN) / (N - 1)\n",
    "PIECE = 32\n",
    "\n",
    "class GameRender(object):\n",
    "    def __init__(self, gomoku):\n",
    "        self.__gomoku = gomoku\n",
    "\n",
    "        #black starts first\n",
    "        self.__currentPieceState = BoardState.BLACK\n",
    "\n",
    "        #initialize pygame\n",
    "        pygame.init()\n",
    "\n",
    "        self.__screen = pygame.display.set_mode((WIDTH, HEIGHT), 0, 32)\n",
    "        pygame.display.set_caption('Gomoku AI')\n",
    "\n",
    "        #load UI resources \n",
    "        self.__ui_chessboard = pygame.image.load(IMAGE_PATH + 'chessboard.jpg').convert()\n",
    "        self.__ui_piece_black = pygame.image.load(IMAGE_PATH + 'piece_black.png').convert_alpha()\n",
    "        self.__ui_piece_white = pygame.image.load(IMAGE_PATH + 'piece_white.png').convert_alpha()\n",
    "\n",
    "    def coordinate_transform_map2pixel(self, i, j):    \n",
    "        #transform chessMap coordinates to UI\n",
    "        return MARGIN + j * GRID - PIECE / 2, MARGIN + i * GRID - PIECE / 2\n",
    "\n",
    "    def coordinate_transform_pixel2map(self, x, y):    \n",
    "        #transform UI coordinates to chessMap\n",
    "        i , j = int(round((y - MARGIN + PIECE / 2) / GRID)), int(round((x - MARGIN + PIECE / 2) / GRID))\n",
    "\n",
    "        if i < 0 or i >= N or j < 0 or j >= N:\n",
    "            return None, None\n",
    "        else:\n",
    "            return i, j\n",
    "\n",
    "    def draw_chess(self):\n",
    "        #board\n",
    "        self.__screen.blit(self.__ui_chessboard, (0,0))\n",
    "        #chess piece\n",
    "        for i in range(0, N):\n",
    "            for j in range(0, N):\n",
    "                x,y = self.coordinate_transform_map2pixel(i,j)\n",
    "                state = self.__gomoku.get_chessboard_state(i,j)\n",
    "                if state == BoardState.BLACK:\n",
    "                    self.__screen.blit(self.__ui_piece_black, (x,y))\n",
    "                elif state == BoardState.WHITE:\n",
    "                    self.__screen.blit(self.__ui_piece_white, (x,y))\n",
    "                else: # BoardState.EMPTY\n",
    "                    pass\n",
    "                \n",
    "    def draw_mouse(self):\n",
    "        #track the mouse pointer\n",
    "        x, y = pygame.mouse.get_pos()\n",
    "        #chess piece moves with the mouse\n",
    "        if self.__currentPieceState == BoardState.BLACK:\n",
    "            self.__screen.blit(self.__ui_piece_black, (x - PIECE / 2, y - PIECE / 2))\n",
    "        else:\n",
    "            self.__screen.blit(self.__ui_piece_white, (x - PIECE / 2, y - PIECE / 2))\n",
    "\n",
    "    def draw_result(self, result):\n",
    "        font = pygame.font.SysFont('Arial', 55)\n",
    "        tips = \"Game Over:\"\n",
    "        if result == BoardState.BLACK :\n",
    "            tips = tips + \"Black Wins\"\n",
    "        elif result == BoardState.WHITE:\n",
    "            tips = tips + \"White Wins\"\n",
    "        else:\n",
    "            tips = tips + \"Draw\"\n",
    "        text = font.render(tips, True, (0, 0, 255))\n",
    "        self.__screen.blit(text, (WIDTH / 2 - 200, HEIGHT / 2 - 50))\n",
    "\n",
    "    def one_step(self):\n",
    "        i, j = None, None\n",
    "        #mouse click\n",
    "        mouse_button = pygame.mouse.get_pressed()\n",
    "        #left click\n",
    "        if mouse_button[0]:\n",
    "            x, y = pygame.mouse.get_pos()\n",
    "            i, j = self.coordinate_transform_pixel2map(x, y)\n",
    "\n",
    "        if not i is None and not j is None:\n",
    "            #overlapped piece\n",
    "            if self.__gomoku.get_chessboard_state(i, j) != BoardState.EMPTY:\n",
    "                return False\n",
    "            else:\n",
    "                self.__gomoku.set_chessboard_state(i, j, self.__currentPieceState)\n",
    "                return True\n",
    "\n",
    "        return False\n",
    "            \n",
    "    def change_state(self):\n",
    "        if self.__currentPieceState == BoardState.BLACK:\n",
    "            self.__currentPieceState = BoardState.WHITE\n",
    "        else:\n",
    "            self.__currentPieceState = BoardState.BLACK"
   ]
  },
  {
   "cell_type": "code",
   "execution_count": 9,
   "metadata": {},
   "outputs": [
    {
     "data": {
      "text/plain": [
       "'WHITE'"
      ]
     },
     "execution_count": 9,
     "metadata": {},
     "output_type": "execute_result"
    }
   ],
   "source": [
    "a = BoardState.WHITE\n",
    "a.name\n",
    "\n"
   ]
  },
  {
   "cell_type": "code",
   "execution_count": 10,
   "metadata": {},
   "outputs": [
    {
     "name": "stdout",
     "output_type": "stream",
     "text": [
      "15\n",
      "30\n",
      "51\n"
     ]
    }
   ],
   "source": [
    "gomoku = Gomoku()\n",
    "vectors = []\n",
    "\n",
    "\n",
    "for i in xrange(N):\n",
    "    vectors.append(gomoku.get_chessMap()[i])\n",
    "\n",
    "print(len(vectors))\n",
    "\n",
    "for j in xrange(N):\n",
    "    vectors.append([gomoku.get_chessMap()[i][j] for i in range(N)])\n",
    "\n",
    "print(len(vectors))\n",
    "\n",
    "\n",
    "vectors.append([gomoku.get_chessMap()[x][x] for x in range(N)])\n",
    "\n",
    "for i in xrange(1, N-4):\n",
    "    v = [gomoku.get_chessMap()[x][x-i] for x in range(i, N)]\n",
    "    vectors.append(v)\n",
    "    v = [gomoku.get_chessMap()[y-i][y] for y in range(i, N)]\n",
    "    vectors.append(v)\n",
    "\n",
    "print(len(vectors))\n",
    "\n",
    "vectors.append([gomoku.get_chessMap()[x][N-x-1] for x in range(N)])\n",
    "\n",
    "for i in xrange(4, N-1):\n",
    "    v = [gomoku.get_chessMap()[x][i-x] for x in xrange(i, -1, -1)]\n",
    "    vectors.append(v)\n",
    "    v = [gomoku.get_chessMap()[x][N-x+N-i-2] for x in xrange(N-i-1, N)]\n",
    "    vectors.append(v)\n",
    "    \n",
    "vector_t = (vectors)[0]\n",
    "\n",
    "if [BoardState.EMPTY, BoardState.EMPTY, BoardState.EMPTY] in vector_t:\n",
    "    print 'Yes'\n",
    "\n"
   ]
  },
  {
   "cell_type": "code",
   "execution_count": 28,
   "metadata": {},
   "outputs": [
    {
     "name": "stdout",
     "output_type": "stream",
     "text": [
      "['empty', 'empty', 'empty', 'empty', 'empty', 'empty', 'empty', 'empty', 'empty', 'empty', 'empty', 'empty', 'empty', 'empty', 'empty']\n"
     ]
    }
   ],
   "source": [
    "def enum_to_string(vector):\n",
    "    string_list = []\n",
    "    for item in vector:\n",
    "        if item == BoardState.BLACK:\n",
    "            string_list.append('black')\n",
    "        elif item == BoardState.WHITE:\n",
    "            string_list.append('white')\n",
    "        else:\n",
    "            string_list.append('empty')\n",
    "    \n",
    "    return string_list\n",
    "    \n",
    "a = enum_to_string(vector_t)\n",
    "print(a)"
   ]
  },
  {
   "cell_type": "code",
   "execution_count": 31,
   "metadata": {
    "collapsed": true
   },
   "outputs": [],
   "source": [
    "WHITE_6PATTERNS = [['empty', 'white', 'white', 'white', 'white','empty'],\n",
    "                   ['empty', 'white', 'white', 'white', 'empty','empty'],\n",
    "                   ['empty', 'empty', 'white', 'white', 'white','empty'],\n",
    "                   ['empty', 'white', 'white', 'empty', 'white','empty'],\n",
    "                   ['empty', 'white', 'empty', 'white', 'white','empty'],\n",
    "                   ['empty', 'empty', 'white', 'white', 'empty','empty'],\n",
    "                   ['empty', 'empty', 'white', 'empty', 'white','empty'],\n",
    "                   ['empty', 'white', 'empty', 'white', 'empty','empty'],\n",
    "                   ['empty', 'empty', 'white', 'empty', 'empty','empty'],\n",
    "                   ['empty', 'empty', 'empty', 'white', 'empty','empty']]\n",
    "\n",
    "WHITE_6SCORES = [10000,800,800,800,800,150,150,150,30,30]\n",
    "\n",
    "WHITE_5PATTERNS = [['white', 'white', 'white', 'white', 'white'],\n",
    "                   ['white', 'white', 'white', 'white', 'empty'],\n",
    "                   ['empty', 'white', 'white', 'white', 'white'],\n",
    "                   ['white', 'white', 'empty', 'white', 'white'],\n",
    "                   ['white', 'empty', 'white', 'white', 'white'],\n",
    "                   ['white', 'white', 'white', 'empty', 'white']]\n",
    "WHITE_5SCORES = [100000,800,800,800,800,800]\n",
    "\n",
    "BLACK_6PATTERNS = [['empty', 'black', 'black', 'black', 'black','empty'],\n",
    "                   ['empty', 'black', 'black', 'black', 'empty','empty'],\n",
    "                   ['empty', 'empty', 'black', 'black', 'black','empty'],\n",
    "                   ['empty', 'black', 'black', 'empty', 'black','empty'],\n",
    "                   ['empty', 'black', 'empty', 'black', 'black','empty'],\n",
    "                   ['empty', 'empty', 'black', 'black', 'empty','empty'],\n",
    "                   ['empty', 'empty', 'black', 'empty', 'black','empty'],\n",
    "                   ['empty', 'black', 'empty', 'black', 'empty','empty'],\n",
    "                   ['empty', 'empty', 'black', 'empty', 'empty','empty'],\n",
    "                   ['empty', 'empty', 'empty', 'black', 'empty','empty']]\n",
    "BLACK_6SCORES = [10000,800,800,800,800,150,150,150,30,30]\n",
    "\n",
    "BLACK_5PATTERNS = [['black', 'black', 'black', 'black', 'black'],\n",
    "                   ['black', 'black', 'black', 'black', 'empty'],\n",
    "                   ['empty', 'black', 'black', 'black', 'black'],\n",
    "                   ['black', 'black', 'empty', 'black', 'black'],\n",
    "                   ['black', 'empty', 'black', 'black', 'black'],\n",
    "                   ['black', 'black', 'black', 'empty', 'black']]\n",
    "BLACK_5SCORES = [100000,800,800,800,800,800]\n",
    "\n",
    "def evaluate_vector(vector):\n",
    "    string_list = enum_to_string(vector)\n",
    "    score = {'white':0,'black':0}\n",
    "    length = len(string_list)\n",
    "    \n",
    "    \n",
    "    if length == 5:\n",
    "        for i in range(len(WHITE_5PATTERNS)):\n",
    "            if WHITE_5PATTERNS[i] == string_list:\n",
    "                score['white'] += WHITE_5SCORES[i]\n",
    "            if BLACK_5PATTERNS[i] == string_list:\n",
    "                score['black'] += BLACK_5SCORES[i]\n",
    "        return score\n",
    "\n",
    "    for i in range(length-5):\n",
    "        temp = [string_list[i],string_list[i+1],string_list[i+2],string_list[i+3],string_list[i+4]]\n",
    "        for i in range(len(WHITE_5PATTERNS)):\n",
    "            if WHITE_5PATTERNS[i] == temp:\n",
    "                score['white'] += WHITE_5SCORES[i]\n",
    "            if BLACK_5PATTERNS[i] == temp:\n",
    "                score['black'] += BLACK_5SCORES[i]\n",
    "                \n",
    "    for i in range(length-6):\n",
    "        temp = [string_list[i],string_list[i+1],string_list[i+2],string_list[i+3],string_list[i+4],string_list[i+5]]\n",
    "        for i in range(len(WHITE_6PATTERNS)):\n",
    "            if WHITE_6PATTERNS[i] == temp:\n",
    "                score['white'] += WHITE_6SCORES[i]\n",
    "            if BLACK_6PATTERNS[i] == temp:\n",
    "                score['black'] += BLACK_6SCORES[i]\n",
    "                \n",
    "    return score\n",
    "        "
   ]
  },
  {
   "cell_type": "code",
   "execution_count": 33,
   "metadata": {},
   "outputs": [
    {
     "data": {
      "text/plain": [
       "{'black': 0, 'white': 0}"
      ]
     },
     "execution_count": 33,
     "metadata": {},
     "output_type": "execute_result"
    }
   ],
   "source": [
    "evaluate_vector([BoardState.BLACK,BoardState.WHITE,BoardState.WHITE,BoardState.EMPTY,BoardState.WHITE,BoardState.BLACK,BoardState.WHITE])"
   ]
  },
  {
   "cell_type": "code",
   "execution_count": null,
   "metadata": {
    "collapsed": true
   },
   "outputs": [],
   "source": [
    "class Node(object):\n",
    "\tdef __init__(self, gomoku, depth, boardState):\n",
    "\t\tself.__gomoku = gomoku\n",
    "\t\tself.__currentState = boardState\n",
    "\t\tself.__depth = depth\n",
    "\t\tself.__currentI = -1\n",
    "\t\tself.__currentJ = -1\n",
    "\n",
    "\tdef evaluate(self):\n",
    "\t\tvectors = []\n",
    "        \n",
    "        for i in xrange(N):\n",
    "            vectors.append(self.__gomoku.get_chessMap()[i])\n",
    "            \n",
    "        for j in xrange(N):\n",
    "            vectors.append([self.__gomoku.get_chessMap()[i][j] for i in range(N)])\n",
    "\n",
    "        vectors.append([self.table.table[x][x] for x in range(0,row)])\n",
    "        for i in xrange(1, row-4):\n",
    "            vec = [self.table.table[x][x-i] for x in range(i, row)]\n",
    "            vectors.append(vec)\n",
    "            vec = [self.table.table[y-i][y] for y in range(i, col)]\n",
    "            vectors.append(vec)\n",
    "            #print [(y-i,y) for y in range(i, col)]\n",
    "\n",
    "        # 1.4 '/'*21\n",
    "        #vectors.append([self.table.table[x][row-x-1] for x in range(0, row)])\n",
    "        #print [(x, row-x-1) for x in xrange(0, row)]\n",
    "        for i in xrange(4, row-1):\n",
    "            vec = [self.table.table[x][i-x] for x in xrange(i, -1, -1)]\n",
    "            vectors.append(vec)\n",
    "            vec = [self.table.table[x][col-x+row-i-2] for x in xrange(row-i-1, row)]\n",
    "            vectors.append(vec)\n",
    "            #print [(x,i-x) for x in xrange(i,-1,-1)]\n",
    "            #print [(x,col-x+row-i-2) for x in xrange(row-i-1, row)]"
   ]
  },
  {
   "cell_type": "code",
   "execution_count": 5,
   "metadata": {
    "collapsed": true
   },
   "outputs": [],
   "source": [
    "import random\n",
    "\n",
    "\n",
    "class gomokuAI(object):\n",
    "\tdef __init__(self, gomoku, currentState):\n",
    "\t\tself.__gomoku = gomoku\n",
    "\t\tself.__currentState = currentState\n",
    "\n",
    "\tdef one_step(self):\n",
    "\t\ti = random.randrange(0,15,1)\n",
    "\t\tj = random.randrange(0,15,1)\n",
    "\n",
    "\t\tif not i is None and not j is None:\n",
    "\t\t\tif self.__gomoku.get_chessboard_state(i, j) != BoardState.EMPTY:\n",
    "\t\t\t\tself.one_step()\n",
    "\t\t\telse:\n",
    "\t\t\t\tself.__gomoku.set_chessboard_state(i, j, self.__currentState)\n",
    "\t\t\t\treturn True\n",
    "\t\treturn False\n"
   ]
  },
  {
   "cell_type": "code",
   "execution_count": 10,
   "metadata": {},
   "outputs": [
    {
     "ename": "SystemExit",
     "evalue": "",
     "output_type": "error",
     "traceback": [
      "An exception has occurred, use %tb to see the full traceback.\n",
      "\u001b[0;31mSystemExit\u001b[0m\n"
     ]
    },
    {
     "name": "stderr",
     "output_type": "stream",
     "text": [
      "/Users/ZitongMao/anaconda2/lib/python2.7/site-packages/IPython/core/interactiveshell.py:2889: UserWarning: To exit: use 'exit', 'quit', or Ctrl-D.\n",
      "  warn(\"To exit: use 'exit', 'quit', or Ctrl-D.\", stacklevel=1)\n"
     ]
    }
   ],
   "source": [
    "from sys import exit\n",
    "\n",
    "if __name__ == '__main__': \n",
    "    gomoku = Gomoku()\n",
    "    render = GameRender(gomoku)\n",
    "    #save for adding AI later\n",
    "    ai = gomokuAI(gomoku, BoardState.WHITE)\n",
    "    result = BoardState.EMPTY\n",
    "    enable_ai = True\n",
    "\n",
    "    while True:\n",
    "        #pygame event\n",
    "        for event in pygame.event.get():\n",
    "            #exit\n",
    "            if event.type == QUIT:\n",
    "                exit()\n",
    "            elif event.type ==  MOUSEBUTTONDOWN:\n",
    "                #play a step\n",
    "                if render.one_step():\n",
    "                    result = gomoku.get_chess_result()\n",
    "                else:\n",
    "                    continue\n",
    "                if result != BoardState.EMPTY:\n",
    "                    break\n",
    "                if enable_ai:\n",
    "                    ai.one_step()\n",
    "                    result = gomoku.get_chess_result()\n",
    "                else:\n",
    "                    render.change_state()\n",
    "        \n",
    "        #draw\n",
    "        render.draw_chess()\n",
    "        render.draw_mouse()\n",
    "\n",
    "        if result != BoardState.EMPTY:\n",
    "            render.draw_result(result)\n",
    "\n",
    "        #update\n",
    "        pygame.display.update()"
   ]
  },
  {
   "cell_type": "code",
   "execution_count": 11,
   "metadata": {},
   "outputs": [
    {
     "name": "stdout",
     "output_type": "stream",
     "text": [
      "ues\n"
     ]
    }
   ],
   "source": []
  },
  {
   "cell_type": "code",
   "execution_count": null,
   "metadata": {
    "collapsed": true
   },
   "outputs": [],
   "source": []
  },
  {
   "cell_type": "code",
   "execution_count": null,
   "metadata": {
    "collapsed": true
   },
   "outputs": [],
   "source": []
  }
 ],
 "metadata": {
  "kernelspec": {
   "display_name": "Python 2",
   "language": "python",
   "name": "python2"
  },
  "language_info": {
   "codemirror_mode": {
    "name": "ipython",
    "version": 2
   },
   "file_extension": ".py",
   "mimetype": "text/x-python",
   "name": "python",
   "nbconvert_exporter": "python",
   "pygments_lexer": "ipython2",
   "version": "2.7.13"
  }
 },
 "nbformat": 4,
 "nbformat_minor": 2
}
